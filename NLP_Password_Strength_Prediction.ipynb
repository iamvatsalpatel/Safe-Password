{
  "nbformat": 4,
  "nbformat_minor": 0,
  "metadata": {
    "kernelspec": {
      "display_name": "Python 3",
      "language": "python",
      "name": "python3"
    },
    "language_info": {
      "codemirror_mode": {
        "name": "ipython",
        "version": 3
      },
      "file_extension": ".py",
      "mimetype": "text/x-python",
      "name": "python",
      "nbconvert_exporter": "python",
      "pygments_lexer": "ipython3",
      "version": "3.7.4"
    },
    "colab": {
      "name": "NLP_Password_Strength_classifier.ipynb",
      "provenance": [],
      "collapsed_sections": []
    }
  },
  "cells": [
    {
      "cell_type": "code",
      "metadata": {
        "id": "4-jyY-wQQKa1"
      },
      "source": [
        "import pandas as pd\n",
        "import numpy as np\n",
        "import seaborn as sns\n",
        "import warnings\n",
        "warnings.filterwarnings('ignore')"
      ],
      "execution_count": 2,
      "outputs": []
    },
    {
      "cell_type": "code",
      "metadata": {
        "colab": {
          "base_uri": "https://localhost:8080/"
        },
        "id": "BFRTgNmulTOC",
        "outputId": "d58174f0-dbea-47b1-b820-08a44f992f0e"
      },
      "source": [
        "from google.colab import drive\n",
        "drive.mount('/content/drive')"
      ],
      "execution_count": 3,
      "outputs": [
        {
          "output_type": "stream",
          "name": "stdout",
          "text": [
            "Mounted at /content/drive\n"
          ]
        }
      ]
    },
    {
      "cell_type": "markdown",
      "metadata": {
        "id": "r_JLIJOiQKa3"
      },
      "source": [
        "#### REading dataset"
      ]
    },
    {
      "cell_type": "code",
      "metadata": {
        "id": "eokg_SNrQKa4",
        "colab": {
          "base_uri": "https://localhost:8080/",
          "height": 275
        },
        "outputId": "e0ddca59-8522-4f67-b065-09f2fe097d93"
      },
      "source": [
        "data=pd.read_csv('/content/drive/MyDrive/PASSWORD/data.csv',error_bad_lines=False)\n",
        "data.head()"
      ],
      "execution_count": 4,
      "outputs": [
        {
          "output_type": "stream",
          "name": "stderr",
          "text": [
            "b'Skipping line 2810: expected 2 fields, saw 5\\nSkipping line 4641: expected 2 fields, saw 5\\nSkipping line 7171: expected 2 fields, saw 5\\nSkipping line 11220: expected 2 fields, saw 5\\nSkipping line 13809: expected 2 fields, saw 5\\nSkipping line 14132: expected 2 fields, saw 5\\nSkipping line 14293: expected 2 fields, saw 5\\nSkipping line 14865: expected 2 fields, saw 5\\nSkipping line 17419: expected 2 fields, saw 5\\nSkipping line 22801: expected 2 fields, saw 5\\nSkipping line 25001: expected 2 fields, saw 5\\nSkipping line 26603: expected 2 fields, saw 5\\nSkipping line 26742: expected 2 fields, saw 5\\nSkipping line 29702: expected 2 fields, saw 5\\nSkipping line 32767: expected 2 fields, saw 5\\nSkipping line 32878: expected 2 fields, saw 5\\nSkipping line 35643: expected 2 fields, saw 5\\nSkipping line 36550: expected 2 fields, saw 5\\nSkipping line 38732: expected 2 fields, saw 5\\nSkipping line 40567: expected 2 fields, saw 5\\nSkipping line 40576: expected 2 fields, saw 5\\nSkipping line 41864: expected 2 fields, saw 5\\nSkipping line 46861: expected 2 fields, saw 5\\nSkipping line 47939: expected 2 fields, saw 5\\nSkipping line 48628: expected 2 fields, saw 5\\nSkipping line 48908: expected 2 fields, saw 5\\nSkipping line 57582: expected 2 fields, saw 5\\nSkipping line 58782: expected 2 fields, saw 5\\nSkipping line 58984: expected 2 fields, saw 5\\nSkipping line 61518: expected 2 fields, saw 5\\nSkipping line 63451: expected 2 fields, saw 5\\nSkipping line 68141: expected 2 fields, saw 5\\nSkipping line 72083: expected 2 fields, saw 5\\nSkipping line 74027: expected 2 fields, saw 5\\nSkipping line 77811: expected 2 fields, saw 5\\nSkipping line 83958: expected 2 fields, saw 5\\nSkipping line 85295: expected 2 fields, saw 5\\nSkipping line 88665: expected 2 fields, saw 5\\nSkipping line 89198: expected 2 fields, saw 5\\nSkipping line 92499: expected 2 fields, saw 5\\nSkipping line 92751: expected 2 fields, saw 5\\nSkipping line 93689: expected 2 fields, saw 5\\nSkipping line 94776: expected 2 fields, saw 5\\nSkipping line 97334: expected 2 fields, saw 5\\nSkipping line 102316: expected 2 fields, saw 5\\nSkipping line 103421: expected 2 fields, saw 5\\nSkipping line 106872: expected 2 fields, saw 5\\nSkipping line 109363: expected 2 fields, saw 5\\nSkipping line 110117: expected 2 fields, saw 5\\nSkipping line 110465: expected 2 fields, saw 5\\nSkipping line 113843: expected 2 fields, saw 5\\nSkipping line 115634: expected 2 fields, saw 5\\nSkipping line 121518: expected 2 fields, saw 5\\nSkipping line 123692: expected 2 fields, saw 5\\nSkipping line 124708: expected 2 fields, saw 5\\nSkipping line 129608: expected 2 fields, saw 5\\nSkipping line 133176: expected 2 fields, saw 5\\nSkipping line 135532: expected 2 fields, saw 5\\nSkipping line 138042: expected 2 fields, saw 5\\nSkipping line 139485: expected 2 fields, saw 5\\nSkipping line 140401: expected 2 fields, saw 5\\nSkipping line 144093: expected 2 fields, saw 5\\nSkipping line 149850: expected 2 fields, saw 5\\nSkipping line 151831: expected 2 fields, saw 5\\nSkipping line 158014: expected 2 fields, saw 5\\nSkipping line 162047: expected 2 fields, saw 5\\nSkipping line 164515: expected 2 fields, saw 5\\nSkipping line 170313: expected 2 fields, saw 5\\nSkipping line 171325: expected 2 fields, saw 5\\nSkipping line 171424: expected 2 fields, saw 5\\nSkipping line 175920: expected 2 fields, saw 5\\nSkipping line 176210: expected 2 fields, saw 5\\nSkipping line 183603: expected 2 fields, saw 5\\nSkipping line 190264: expected 2 fields, saw 5\\nSkipping line 191683: expected 2 fields, saw 5\\nSkipping line 191988: expected 2 fields, saw 5\\nSkipping line 195450: expected 2 fields, saw 5\\nSkipping line 195754: expected 2 fields, saw 5\\nSkipping line 197124: expected 2 fields, saw 5\\nSkipping line 199263: expected 2 fields, saw 5\\nSkipping line 202603: expected 2 fields, saw 5\\nSkipping line 209960: expected 2 fields, saw 5\\nSkipping line 213218: expected 2 fields, saw 5\\nSkipping line 217060: expected 2 fields, saw 5\\nSkipping line 220121: expected 2 fields, saw 5\\nSkipping line 223518: expected 2 fields, saw 5\\nSkipping line 226293: expected 2 fields, saw 5\\nSkipping line 227035: expected 2 fields, saw 7\\nSkipping line 227341: expected 2 fields, saw 5\\nSkipping line 227808: expected 2 fields, saw 5\\nSkipping line 228516: expected 2 fields, saw 5\\nSkipping line 228733: expected 2 fields, saw 5\\nSkipping line 232043: expected 2 fields, saw 5\\nSkipping line 232426: expected 2 fields, saw 5\\nSkipping line 234490: expected 2 fields, saw 5\\nSkipping line 239626: expected 2 fields, saw 5\\nSkipping line 240461: expected 2 fields, saw 5\\nSkipping line 244518: expected 2 fields, saw 5\\nSkipping line 245395: expected 2 fields, saw 5\\nSkipping line 246168: expected 2 fields, saw 5\\nSkipping line 246655: expected 2 fields, saw 5\\nSkipping line 246752: expected 2 fields, saw 5\\nSkipping line 247189: expected 2 fields, saw 5\\nSkipping line 250276: expected 2 fields, saw 5\\nSkipping line 255327: expected 2 fields, saw 5\\nSkipping line 257094: expected 2 fields, saw 5\\n'\n",
            "b'Skipping line 264626: expected 2 fields, saw 5\\nSkipping line 265028: expected 2 fields, saw 5\\nSkipping line 269150: expected 2 fields, saw 5\\nSkipping line 271360: expected 2 fields, saw 5\\nSkipping line 273975: expected 2 fields, saw 5\\nSkipping line 274742: expected 2 fields, saw 5\\nSkipping line 276227: expected 2 fields, saw 5\\nSkipping line 279807: expected 2 fields, saw 5\\nSkipping line 283425: expected 2 fields, saw 5\\nSkipping line 287468: expected 2 fields, saw 5\\nSkipping line 292995: expected 2 fields, saw 5\\nSkipping line 293496: expected 2 fields, saw 5\\nSkipping line 293735: expected 2 fields, saw 5\\nSkipping line 295060: expected 2 fields, saw 5\\nSkipping line 296643: expected 2 fields, saw 5\\nSkipping line 296848: expected 2 fields, saw 5\\nSkipping line 308926: expected 2 fields, saw 5\\nSkipping line 310360: expected 2 fields, saw 5\\nSkipping line 317004: expected 2 fields, saw 5\\nSkipping line 318207: expected 2 fields, saw 5\\nSkipping line 331783: expected 2 fields, saw 5\\nSkipping line 333864: expected 2 fields, saw 5\\nSkipping line 335958: expected 2 fields, saw 5\\nSkipping line 336290: expected 2 fields, saw 5\\nSkipping line 343526: expected 2 fields, saw 5\\nSkipping line 343857: expected 2 fields, saw 5\\nSkipping line 344059: expected 2 fields, saw 5\\nSkipping line 348691: expected 2 fields, saw 5\\nSkipping line 353446: expected 2 fields, saw 5\\nSkipping line 357073: expected 2 fields, saw 5\\nSkipping line 359753: expected 2 fields, saw 5\\nSkipping line 359974: expected 2 fields, saw 5\\nSkipping line 366534: expected 2 fields, saw 5\\nSkipping line 369514: expected 2 fields, saw 5\\nSkipping line 377759: expected 2 fields, saw 5\\nSkipping line 379327: expected 2 fields, saw 5\\nSkipping line 380769: expected 2 fields, saw 5\\nSkipping line 381073: expected 2 fields, saw 5\\nSkipping line 381489: expected 2 fields, saw 5\\nSkipping line 386304: expected 2 fields, saw 5\\nSkipping line 387635: expected 2 fields, saw 5\\nSkipping line 389613: expected 2 fields, saw 5\\nSkipping line 392604: expected 2 fields, saw 5\\nSkipping line 393184: expected 2 fields, saw 5\\nSkipping line 395530: expected 2 fields, saw 5\\nSkipping line 396939: expected 2 fields, saw 5\\nSkipping line 397385: expected 2 fields, saw 5\\nSkipping line 397509: expected 2 fields, saw 5\\nSkipping line 402902: expected 2 fields, saw 5\\nSkipping line 405187: expected 2 fields, saw 5\\nSkipping line 408412: expected 2 fields, saw 5\\nSkipping line 419423: expected 2 fields, saw 5\\nSkipping line 420962: expected 2 fields, saw 5\\nSkipping line 425965: expected 2 fields, saw 5\\nSkipping line 427496: expected 2 fields, saw 5\\nSkipping line 438881: expected 2 fields, saw 5\\nSkipping line 439776: expected 2 fields, saw 5\\nSkipping line 440345: expected 2 fields, saw 5\\nSkipping line 445507: expected 2 fields, saw 5\\nSkipping line 445548: expected 2 fields, saw 5\\nSkipping line 447184: expected 2 fields, saw 5\\nSkipping line 448603: expected 2 fields, saw 5\\nSkipping line 451732: expected 2 fields, saw 5\\nSkipping line 458249: expected 2 fields, saw 5\\nSkipping line 460274: expected 2 fields, saw 5\\nSkipping line 467630: expected 2 fields, saw 5\\nSkipping line 473961: expected 2 fields, saw 5\\nSkipping line 476281: expected 2 fields, saw 5\\nSkipping line 478010: expected 2 fields, saw 5\\nSkipping line 478322: expected 2 fields, saw 5\\nSkipping line 479999: expected 2 fields, saw 5\\nSkipping line 480898: expected 2 fields, saw 5\\nSkipping line 481688: expected 2 fields, saw 5\\nSkipping line 485193: expected 2 fields, saw 5\\nSkipping line 485519: expected 2 fields, saw 5\\nSkipping line 486000: expected 2 fields, saw 5\\nSkipping line 489063: expected 2 fields, saw 5\\nSkipping line 494525: expected 2 fields, saw 5\\nSkipping line 495009: expected 2 fields, saw 5\\nSkipping line 501954: expected 2 fields, saw 5\\nSkipping line 508035: expected 2 fields, saw 5\\nSkipping line 508828: expected 2 fields, saw 5\\nSkipping line 509833: expected 2 fields, saw 5\\nSkipping line 510410: expected 2 fields, saw 5\\nSkipping line 518229: expected 2 fields, saw 5\\nSkipping line 520302: expected 2 fields, saw 5\\nSkipping line 520340: expected 2 fields, saw 5\\n'\n",
            "b'Skipping line 525174: expected 2 fields, saw 5\\nSkipping line 526251: expected 2 fields, saw 5\\nSkipping line 529611: expected 2 fields, saw 5\\nSkipping line 531398: expected 2 fields, saw 5\\nSkipping line 534146: expected 2 fields, saw 5\\nSkipping line 544954: expected 2 fields, saw 5\\nSkipping line 553002: expected 2 fields, saw 5\\nSkipping line 553883: expected 2 fields, saw 5\\nSkipping line 553887: expected 2 fields, saw 5\\nSkipping line 553915: expected 2 fields, saw 5\\nSkipping line 554172: expected 2 fields, saw 5\\nSkipping line 563534: expected 2 fields, saw 5\\nSkipping line 565191: expected 2 fields, saw 5\\nSkipping line 574108: expected 2 fields, saw 5\\nSkipping line 574412: expected 2 fields, saw 5\\nSkipping line 575985: expected 2 fields, saw 5\\nSkipping line 580091: expected 2 fields, saw 5\\nSkipping line 582682: expected 2 fields, saw 5\\nSkipping line 585885: expected 2 fields, saw 5\\nSkipping line 590171: expected 2 fields, saw 5\\nSkipping line 591924: expected 2 fields, saw 5\\nSkipping line 592515: expected 2 fields, saw 5\\nSkipping line 593888: expected 2 fields, saw 5\\nSkipping line 596245: expected 2 fields, saw 5\\nSkipping line 607344: expected 2 fields, saw 5\\nSkipping line 607633: expected 2 fields, saw 5\\nSkipping line 610939: expected 2 fields, saw 5\\nSkipping line 613638: expected 2 fields, saw 5\\nSkipping line 615643: expected 2 fields, saw 5\\nSkipping line 615901: expected 2 fields, saw 5\\nSkipping line 617389: expected 2 fields, saw 5\\nSkipping line 634641: expected 2 fields, saw 5\\nSkipping line 635755: expected 2 fields, saw 5\\nSkipping line 646243: expected 2 fields, saw 5\\nSkipping line 647165: expected 2 fields, saw 5\\nSkipping line 648610: expected 2 fields, saw 5\\nSkipping line 648772: expected 2 fields, saw 5\\nSkipping line 651833: expected 2 fields, saw 5\\nSkipping line 653663: expected 2 fields, saw 5\\nSkipping line 656233: expected 2 fields, saw 5\\nSkipping line 656694: expected 2 fields, saw 5\\nSkipping line 659783: expected 2 fields, saw 5\\nSkipping line 660478: expected 2 fields, saw 5\\nSkipping line 661133: expected 2 fields, saw 5\\nSkipping line 661736: expected 2 fields, saw 5\\nSkipping line 669827: expected 2 fields, saw 5\\n'\n"
          ]
        },
        {
          "output_type": "execute_result",
          "data": {
            "text/html": [
              "<div>\n",
              "<style scoped>\n",
              "    .dataframe tbody tr th:only-of-type {\n",
              "        vertical-align: middle;\n",
              "    }\n",
              "\n",
              "    .dataframe tbody tr th {\n",
              "        vertical-align: top;\n",
              "    }\n",
              "\n",
              "    .dataframe thead th {\n",
              "        text-align: right;\n",
              "    }\n",
              "</style>\n",
              "<table border=\"1\" class=\"dataframe\">\n",
              "  <thead>\n",
              "    <tr style=\"text-align: right;\">\n",
              "      <th></th>\n",
              "      <th>password</th>\n",
              "      <th>strength</th>\n",
              "    </tr>\n",
              "  </thead>\n",
              "  <tbody>\n",
              "    <tr>\n",
              "      <th>0</th>\n",
              "      <td>kzde5577</td>\n",
              "      <td>1</td>\n",
              "    </tr>\n",
              "    <tr>\n",
              "      <th>1</th>\n",
              "      <td>kino3434</td>\n",
              "      <td>1</td>\n",
              "    </tr>\n",
              "    <tr>\n",
              "      <th>2</th>\n",
              "      <td>visi7k1yr</td>\n",
              "      <td>1</td>\n",
              "    </tr>\n",
              "    <tr>\n",
              "      <th>3</th>\n",
              "      <td>megzy123</td>\n",
              "      <td>1</td>\n",
              "    </tr>\n",
              "    <tr>\n",
              "      <th>4</th>\n",
              "      <td>lamborghin1</td>\n",
              "      <td>1</td>\n",
              "    </tr>\n",
              "  </tbody>\n",
              "</table>\n",
              "</div>"
            ],
            "text/plain": [
              "      password  strength\n",
              "0     kzde5577         1\n",
              "1     kino3434         1\n",
              "2    visi7k1yr         1\n",
              "3     megzy123         1\n",
              "4  lamborghin1         1"
            ]
          },
          "metadata": {},
          "execution_count": 4
        }
      ]
    },
    {
      "cell_type": "code",
      "metadata": {
        "id": "63E-BopuQKa5",
        "colab": {
          "base_uri": "https://localhost:8080/"
        },
        "outputId": "0e71de64-8673-42bb-9d63-a3824451b6a9"
      },
      "source": [
        "data['strength'].unique()"
      ],
      "execution_count": 5,
      "outputs": [
        {
          "output_type": "execute_result",
          "data": {
            "text/plain": [
              "array([1, 2, 0])"
            ]
          },
          "metadata": {},
          "execution_count": 5
        }
      ]
    },
    {
      "cell_type": "code",
      "metadata": {
        "id": "1aiXxgBmQKa5"
      },
      "source": [
        ""
      ],
      "execution_count": 5,
      "outputs": []
    },
    {
      "cell_type": "markdown",
      "metadata": {
        "id": "ztLoaxPUQKa6"
      },
      "source": [
        "#### code to check all the missing values in my dataset"
      ]
    },
    {
      "cell_type": "code",
      "metadata": {
        "id": "mVVIydRAQKa6",
        "colab": {
          "base_uri": "https://localhost:8080/"
        },
        "outputId": "094061ad-a765-4669-dd29-deb65580e482"
      },
      "source": [
        "data.isna().sum()"
      ],
      "execution_count": 6,
      "outputs": [
        {
          "output_type": "execute_result",
          "data": {
            "text/plain": [
              "password    1\n",
              "strength    0\n",
              "dtype: int64"
            ]
          },
          "metadata": {},
          "execution_count": 6
        }
      ]
    },
    {
      "cell_type": "code",
      "metadata": {
        "id": "80grTBhpQKa7",
        "colab": {
          "base_uri": "https://localhost:8080/",
          "height": 80
        },
        "outputId": "64cb527a-3eab-4422-adf5-3ed9e94b9dfe"
      },
      "source": [
        "data[data['password'].isnull()]"
      ],
      "execution_count": 7,
      "outputs": [
        {
          "output_type": "execute_result",
          "data": {
            "text/html": [
              "<div>\n",
              "<style scoped>\n",
              "    .dataframe tbody tr th:only-of-type {\n",
              "        vertical-align: middle;\n",
              "    }\n",
              "\n",
              "    .dataframe tbody tr th {\n",
              "        vertical-align: top;\n",
              "    }\n",
              "\n",
              "    .dataframe thead th {\n",
              "        text-align: right;\n",
              "    }\n",
              "</style>\n",
              "<table border=\"1\" class=\"dataframe\">\n",
              "  <thead>\n",
              "    <tr style=\"text-align: right;\">\n",
              "      <th></th>\n",
              "      <th>password</th>\n",
              "      <th>strength</th>\n",
              "    </tr>\n",
              "  </thead>\n",
              "  <tbody>\n",
              "    <tr>\n",
              "      <th>367579</th>\n",
              "      <td>NaN</td>\n",
              "      <td>0</td>\n",
              "    </tr>\n",
              "  </tbody>\n",
              "</table>\n",
              "</div>"
            ],
            "text/plain": [
              "       password  strength\n",
              "367579      NaN         0"
            ]
          },
          "metadata": {},
          "execution_count": 7
        }
      ]
    },
    {
      "cell_type": "code",
      "metadata": {
        "id": "LMvsv2YLQKa7"
      },
      "source": [
        "data.dropna(inplace=True)"
      ],
      "execution_count": 8,
      "outputs": []
    },
    {
      "cell_type": "code",
      "metadata": {
        "id": "92C693gCQKa7",
        "colab": {
          "base_uri": "https://localhost:8080/"
        },
        "outputId": "c9ef1e3f-bf65-48e3-d0c8-389cdbb71fad"
      },
      "source": [
        "data.isnull().sum()"
      ],
      "execution_count": 9,
      "outputs": [
        {
          "output_type": "execute_result",
          "data": {
            "text/plain": [
              "password    0\n",
              "strength    0\n",
              "dtype: int64"
            ]
          },
          "metadata": {},
          "execution_count": 9
        }
      ]
    },
    {
      "cell_type": "code",
      "metadata": {
        "id": "YNIgl6MEQKa8",
        "colab": {
          "base_uri": "https://localhost:8080/",
          "height": 296
        },
        "outputId": "0b1098e2-cbd4-4f42-bae0-96a388ce48ae"
      },
      "source": [
        "sns.countplot(data['strength'])"
      ],
      "execution_count": 10,
      "outputs": [
        {
          "output_type": "execute_result",
          "data": {
            "text/plain": [
              "<matplotlib.axes._subplots.AxesSubplot at 0x7f3d7d004390>"
            ]
          },
          "metadata": {},
          "execution_count": 10
        },
        {
          "output_type": "display_data",
          "data": {
            "image/png": "[encoded data removed]",
            "text/plain": [
              "<Figure size 432x288 with 1 Axes>"
            ]
          },
          "metadata": {
            "needs_background": "light"
          }
        }
      ]
    },
    {
      "cell_type": "code",
      "metadata": {
        "id": "MAOpXMnKQKa8"
      },
      "source": [
        "password_tuple=np.array(data)"
      ],
      "execution_count": 11,
      "outputs": []
    },
    {
      "cell_type": "code",
      "metadata": {
        "id": "Z8LgBJCbQKa9",
        "colab": {
          "base_uri": "https://localhost:8080/"
        },
        "outputId": "ac3f485e-4b7a-42cc-e415-211f3d59e60f"
      },
      "source": [
        "password_tuple"
      ],
      "execution_count": 12,
      "outputs": [
        {
          "output_type": "execute_result",
          "data": {
            "text/plain": [
              "array([['kzde5577', 1],\n",
              "       ['kino3434', 1],\n",
              "       ['visi7k1yr', 1],\n",
              "       ...,\n",
              "       ['184520socram', 1],\n",
              "       ['marken22a', 1],\n",
              "       ['fxx4pw4g', 1]], dtype=object)"
            ]
          },
          "metadata": {},
          "execution_count": 12
        }
      ]
    },
    {
      "cell_type": "code",
      "metadata": {
        "id": "PKvA2ms-QKa9"
      },
      "source": [
        ""
      ],
      "execution_count": 12,
      "outputs": []
    },
    {
      "cell_type": "markdown",
      "metadata": {
        "id": "IiDCozNZQKa-"
      },
      "source": [
        "#### shuffling randomly for robustness"
      ]
    },
    {
      "cell_type": "code",
      "metadata": {
        "id": "yWw3v4XVQKa-"
      },
      "source": [
        "import random\n",
        "random.shuffle(password_tuple)"
      ],
      "execution_count": 13,
      "outputs": []
    },
    {
      "cell_type": "code",
      "metadata": {
        "id": "-d2zb9bzQKa_"
      },
      "source": [
        "x=[labels[0] for labels in password_tuple]\n",
        "y=[labels[1] for labels in password_tuple]\n"
      ],
      "execution_count": 14,
      "outputs": []
    },
    {
      "cell_type": "code",
      "metadata": {
        "id": "MEpD0cnZQKa_",
        "colab": {
          "base_uri": "https://localhost:8080/"
        },
        "outputId": "a16a0404-87b2-478a-c68a-0daa2e185512"
      },
      "source": [
        "x"
      ],
      "execution_count": 15,
      "outputs": [
        {
          "output_type": "execute_result",
          "data": {
            "text/plain": [
              "['kzde5577',\n",
              " 'kino3434',\n",
              " 'visi7k1yr',\n",
              " 'kino3434',\n",
              " 'megzy123',\n",
              " 'kzde5577',\n",
              " 'kzde5577',\n",
              " 'kino3434',\n",
              " 'AVYq1lDE4MgAZfNt',\n",
              " 'kzde5577',\n",
              " 'megzy123',\n",
              " 'kzde5577',\n",
              " 'megzy123',\n",
              " 'u6c8vhow',\n",
              " 'v1118714',\n",
              " 'asv5o9yu',\n",
              " 'g067057895',\n",
              " 'visi7k1yr',\n",
              " 'jerusalem393',\n",
              " 'WUt9IZzE0OQ7PkNE',\n",
              " 'idofo673',\n",
              " 'kino3434',\n",
              " 'g067057895',\n",
              " 'visi7k1yr',\n",
              " 'idofo673',\n",
              " 'AVYq1lDE4MgAZfNt',\n",
              " 'cigicigi123',\n",
              " 'AVYq1lDE4MgAZfNt',\n",
              " '0169395484a',\n",
              " 'elyass15@ajilent-ci',\n",
              " 'v1118714',\n",
              " 'asv5o9yu',\n",
              " 'klara-tershina3H',\n",
              " 'kino3434',\n",
              " 'go7kew7a2po',\n",
              " 'faranumar91',\n",
              " 'kino3434',\n",
              " 'lamborghin1',\n",
              " 'AVYq1lDE4MgAZfNt',\n",
              " 'czuodhj972',\n",
              " 'fahad123',\n",
              " 'fahad123',\n",
              " 'AVYq1lDE4MgAZfNt',\n",
              " 'schalke04',\n",
              " 'yitbos77',\n",
              " '6975038lp',\n",
              " 'a2531106',\n",
              " 'megzy123',\n",
              " 'sbl571017',\n",
              " 'memjan123',\n",
              " 'jerusalem393',\n",
              " '612035180tok',\n",
              " 'kzde5577',\n",
              " 'hpqkoxsn5',\n",
              " 'kswa2mrv',\n",
              " 'AVYq1lDE4MgAZfNt',\n",
              " 'trabajonet9',\n",
              " 'g067057895',\n",
              " 'kino3434',\n",
              " 'prisonbreak1',\n",
              " '6975038lp',\n",
              " 'a2531106',\n",
              " 'hpqkoxsn5',\n",
              " 'kjkjkj1',\n",
              " 'v1118714',\n",
              " 'asv5o9yu',\n",
              " 'a2531106',\n",
              " 'il0vey0u',\n",
              " 'c3h8bkzr',\n",
              " 'matiofox08',\n",
              " 'lamborghin1',\n",
              " 'idofo673',\n",
              " 'exitos2009',\n",
              " 'kunyukbabi69',\n",
              " 'hodygid757',\n",
              " 'u6c8vhow',\n",
              " 'kjkjkj1',\n",
              " 'elyass15@ajilent-ci',\n",
              " '612035180tok',\n",
              " '283671gus',\n",
              " 'snolyuj04',\n",
              " 'g067057895',\n",
              " 'klara-tershina3H',\n",
              " 'go7kew7a2po',\n",
              " 'visi7k1yr',\n",
              " 'c3h8bkzr',\n",
              " 'k9b8cz6aj2',\n",
              " 'czuodhj972',\n",
              " 'gdfn76',\n",
              " 'k9b8cz6aj2',\n",
              " 'd04m11',\n",
              " 'fk9qi21m',\n",
              " 'matiofox08',\n",
              " 'WUt9IZzE0OQ7PkNE',\n",
              " 'kjkjkj1',\n",
              " 'kunyukbabi69',\n",
              " 'ok>bdk',\n",
              " 'sbl571017',\n",
              " '0169395484a',\n",
              " 'fahad123',\n",
              " 'kunyukbabi69',\n",
              " 'snolyuj04',\n",
              " 'juliana19',\n",
              " 'gaymaids1',\n",
              " 'as326159',\n",
              " 'j09000',\n",
              " '929865yt',\n",
              " 'Iamthelegend1!',\n",
              " 'megzy123',\n",
              " 'rntprns7',\n",
              " '123477889a',\n",
              " 'mmm23mm',\n",
              " '283671gus',\n",
              " 'g067057895',\n",
              " 'as326159',\n",
              " 'jalingo1',\n",
              " 'jalal123456',\n",
              " 'WUt9IZzE0OQ7PkNE',\n",
              " 'kswa2mrv',\n",
              " 'AVYq1lDE4MgAZfNt',\n",
              " 'moken7',\n",
              " 'TyWM72UNEex8Q8Y',\n",
              " 'moken7',\n",
              " 'yllime123',\n",
              " 'gill02',\n",
              " 'jUV4dSDQwNwPpA36',\n",
              " 'yu4cmn',\n",
              " 'il0vey0u',\n",
              " 'p2share',\n",
              " 'k1k2k3k4k5k6',\n",
              " 'woon12',\n",
              " 'megzy123',\n",
              " 'gdfn76',\n",
              " 'fnmsdha476',\n",
              " 'asgaliu11',\n",
              " 'jalingo1',\n",
              " 'asv5o9yu',\n",
              " 'k9b8cz6aj2',\n",
              " 'Iamthelegend1!',\n",
              " 'jerusalem393',\n",
              " 'v1118714',\n",
              " 'trabajonet9',\n",
              " 'oekojWyH120063',\n",
              " 'prisonbreak1',\n",
              " 'v1118714',\n",
              " '2yz4ewwg',\n",
              " '0169395484a',\n",
              " 'nicolas05',\n",
              " 'znbl5tj1',\n",
              " 'exitos2009',\n",
              " 'j09000',\n",
              " 'fahad123',\n",
              " '838188linh',\n",
              " 'warriors08',\n",
              " 'megzy123',\n",
              " 'jalal123456',\n",
              " 'schalke04',\n",
              " 'ass359',\n",
              " 'denise18',\n",
              " 'sknq7m0',\n",
              " 'go7kew7a2po',\n",
              " 'cigicigi123',\n",
              " '123477889a',\n",
              " 'alchimie79',\n",
              " '1972vishara',\n",
              " 'poseidon2011',\n",
              " 'calcifer32',\n",
              " '6975038lp',\n",
              " 'znbl5tj1',\n",
              " '2021848709.',\n",
              " 'yllime123',\n",
              " 'g3rappa',\n",
              " '12345yolanda',\n",
              " '0169395484a',\n",
              " 's4m2dx9e6',\n",
              " 'kVczcljg4OA25Aeb',\n",
              " 'puegwajy416',\n",
              " 'meopvywk628',\n",
              " 'klara-tershina3H',\n",
              " 'tia150979',\n",
              " 'cesarmaio1',\n",
              " 'finisterra1',\n",
              " 'intel1',\n",
              " '2010server',\n",
              " 'a2531106',\n",
              " 'gill02',\n",
              " 'hpqkoxsn5',\n",
              " 'yk530mg8',\n",
              " 'u6c8vhow',\n",
              " 'zgmfnwuq25',\n",
              " 'jalingo1',\n",
              " 'elonex24',\n",
              " 'd04m11',\n",
              " 'rogyh820',\n",
              " 'jytifok873',\n",
              " 'sarahi1628',\n",
              " 'obstacle25',\n",
              " 'IjUcOtYqAwel725',\n",
              " 'ekufite742',\n",
              " 'pikey231',\n",
              " 'lamborghin1',\n",
              " 'teste10',\n",
              " 'gdfn76',\n",
              " 'fk9qi21m',\n",
              " 'kinga22',\n",
              " 'kayal123',\n",
              " 'memjan123',\n",
              " 'change201',\n",
              " 'RPFUOUDQwMwVW0AS',\n",
              " 'aquhih220',\n",
              " 'jerusalem393',\n",
              " 'a2531106',\n",
              " 'kzde5577',\n",
              " '746xitEGiqObog',\n",
              " 'www32223222',\n",
              " 'gaymaids1',\n",
              " 'jalal123456',\n",
              " 'ok>bdk',\n",
              " 'a2531106',\n",
              " 'il0vey0u',\n",
              " 'sknq7m0',\n",
              " 'change201',\n",
              " '52558000aaa',\n",
              " 'qn5xpg3k00',\n",
              " 'meriton23',\n",
              " 'planes123',\n",
              " 'czuodhj972',\n",
              " 's4m2dx9e6',\n",
              " 'juliana19',\n",
              " 'samael666',\n",
              " 'khmer100.03278&?><Mnb',\n",
              " '64959rodro',\n",
              " 'vehat387',\n",
              " '929865yt',\n",
              " 'gill02',\n",
              " 'yllime123',\n",
              " 'wibi182d',\n",
              " 'teemteem97',\n",
              " 'qn5xpg3k00',\n",
              " 'gozv3e5',\n",
              " 'k9b8cz6aj2',\n",
              " 'tucagu356',\n",
              " 'q0pv0fk',\n",
              " 'aquhih220',\n",
              " 'cesarmaio1',\n",
              " 'kikeq102',\n",
              " 'XqMB7vDMzOQocAFV',\n",
              " 'samael666',\n",
              " 'k1k2k3k4k5k6',\n",
              " 'visi7k1yr',\n",
              " 'jonothepoop1',\n",
              " 'kVczcljg4OA25Aeb',\n",
              " 'cigicigi123',\n",
              " 'wisal1234',\n",
              " 'bugatti01',\n",
              " 'z3ro1sm',\n",
              " 'witek1709',\n",
              " 'oekojWyH120063',\n",
              " 'yu4cmn',\n",
              " 'as326159',\n",
              " 'jerusalem393',\n",
              " 'elonex24',\n",
              " 'jUV4dSDQwNwPpA36',\n",
              " '929865yt',\n",
              " '3vszncp4',\n",
              " 'schalke04',\n",
              " 'wisal1234',\n",
              " '4fqa52vecr',\n",
              " 'meriton23',\n",
              " 'barboza221294',\n",
              " 'potatobus150',\n",
              " 'oekojWyH120063',\n",
              " '123477889a',\n",
              " 'intel1',\n",
              " 'woon12',\n",
              " 'x8512514',\n",
              " 'yuri110995',\n",
              " 'a2531106',\n",
              " 'igejasy712',\n",
              " '2021848709.',\n",
              " 'bellsuki1',\n",
              " 'lsdlsd1',\n",
              " 'z7zbgIDkzMQeHUd9',\n",
              " 'q0pv0fk',\n",
              " 'QWERTY0011',\n",
              " '7942vikas',\n",
              " 'kuntz80',\n",
              " 'atigi839',\n",
              " 'ldteugao6',\n",
              " '2010server',\n",
              " 'zoobike04',\n",
              " 'mike09',\n",
              " 'teste10',\n",
              " 'ajyrew547',\n",
              " 'barra23',\n",
              " 'metopelo1623',\n",
              " 'elonex24',\n",
              " 'zoobike04',\n",
              " 'edcmki90',\n",
              " 'RPFUOUDQwMwVW0AS',\n",
              " 'rntprns7',\n",
              " 'uou2dae',\n",
              " '6975038lp',\n",
              " 'tamanagung6',\n",
              " 'ass359',\n",
              " 'klara-tershina3H',\n",
              " 'nicolas05',\n",
              " 'memjan123',\n",
              " 'exitos2009',\n",
              " 'lzhzad1989',\n",
              " 'sarahi1628',\n",
              " '2akira2',\n",
              " 'warriors08',\n",
              " 'd4xQ3LjUwMQFVCYQ',\n",
              " '6tequila6',\n",
              " 'e667794c1d',\n",
              " 'go7kew7a2po',\n",
              " 'iwaguh884',\n",
              " 'vehat387',\n",
              " 'jerusalem393',\n",
              " 'taurofive16',\n",
              " 'd4xQ3LjUwMQFVCYQ',\n",
              " 'prisonbreak1',\n",
              " '1qa2ws3ed4rf',\n",
              " 'khmer100.03278&?><Mnb',\n",
              " 'atigi839',\n",
              " 'bencike7',\n",
              " 'xp;ysmybst',\n",
              " 'gkrqjs6',\n",
              " 'RPFUOUDQwMwVW0AS',\n",
              " 'lrhxmevb620',\n",
              " 'idofo673',\n",
              " 'demon10',\n",
              " 'jerusalem393',\n",
              " 'portales1',\n",
              " '1qa2ws3ed4rf',\n",
              " 'frhnsvelhfr1',\n",
              " 'k9b8cz6aj2',\n",
              " 'hosna1368',\n",
              " '123477889a',\n",
              " 'kino3434',\n",
              " 'ekufite742',\n",
              " 'kino3434',\n",
              " 'gkrqjs6',\n",
              " 'vgnfs495vp',\n",
              " '746xitEGiqObog',\n",
              " 'z888888',\n",
              " '159951josh',\n",
              " 'yu4cmn',\n",
              " 'mustang337',\n",
              " 'ns2b0727',\n",
              " '0112358mayin0',\n",
              " 'IjUcOtYqAwel725',\n",
              " 'gandhi8513',\n",
              " 'portales1',\n",
              " 'a2531106',\n",
              " 'juliana19',\n",
              " 'farrukhcse12',\n",
              " 'mmm23mm',\n",
              " '7942vikas',\n",
              " 'icap12',\n",
              " 'ok>bdk',\n",
              " 'virush1n1',\n",
              " 'peluchin4',\n",
              " '2021848709.',\n",
              " 'tin030201',\n",
              " 'y0unus',\n",
              " '10Erjrlmebup0n',\n",
              " 'zgmfnwuq25',\n",
              " '929865yt',\n",
              " 'IRZA98',\n",
              " '1qa2ws3ed4rf',\n",
              " 'tucagu356',\n",
              " 'a110804032',\n",
              " 'czuodhj972',\n",
              " 'nLIGyhTU1NQTAp6u',\n",
              " 'isqizkg1',\n",
              " 'ejeko677',\n",
              " 'IjUcOtYqAwel725',\n",
              " 'han19660120',\n",
              " 'hqh2eYjQxOQPYIsA',\n",
              " 's9830950044',\n",
              " 'jUV4dSDQwNwPpA36',\n",
              " 'fnmsdha476',\n",
              " 'yitbos77',\n",
              " 'mmm23mm',\n",
              " 'obstacle25',\n",
              " 'saule123',\n",
              " 'mohantra1',\n",
              " 'atigi839',\n",
              " 'elyass15@ajilent-ci',\n",
              " 'prisonbreak1',\n",
              " 'fnmsdha476',\n",
              " 'pHyqueDIyNQ8vmhb',\n",
              " 'fnmsdha476',\n",
              " 'abizar08',\n",
              " 'tia150979',\n",
              " 'fahad123',\n",
              " '3CgRg8DA1NQY1iEj',\n",
              " 'cockw0mble',\n",
              " 'ejeko677',\n",
              " 'nK0yKXTU0NQHZE2e',\n",
              " 'oekojWyH120063',\n",
              " 'rntprns7',\n",
              " 'khmer100.03278&?><Mnb',\n",
              " 'kjkjkj1',\n",
              " '147963asd',\n",
              " 'sasuke4',\n",
              " '2GnTStTE4Mw4MTwv',\n",
              " 'tukaxo486',\n",
              " 'jonothepoop1',\n",
              " 'hpqkoxsn5',\n",
              " 'calcifer32',\n",
              " '4165000yakub',\n",
              " 'lymuvop730',\n",
              " 'yllime123',\n",
              " '12345yolanda',\n",
              " 'kzde5577',\n",
              " 'sofietou74',\n",
              " 'x8512514',\n",
              " 'barra23',\n",
              " 'polo2014',\n",
              " 'kikeq102',\n",
              " 'IjUcOtYqAwel725',\n",
              " 'farrukhcse12',\n",
              " 'hasan18',\n",
              " 'zoobike04',\n",
              " 'gerardway1',\n",
              " '1597535youssi',\n",
              " 'xanyrum650',\n",
              " 'UF1Z2WjE5Mg26R1K',\n",
              " 'cdann123',\n",
              " 'metopelo1623',\n",
              " 'jr88072635',\n",
              " 'isqizkg1',\n",
              " 'wasanun13',\n",
              " 'juany57',\n",
              " '2021848709.',\n",
              " 'gutergut599',\n",
              " 'fahad123',\n",
              " 'potatobus150',\n",
              " 'xtswdypgh936',\n",
              " 'gdfn76',\n",
              " 'saule123',\n",
              " 'colorado27',\n",
              " 'ryjypes139',\n",
              " 'asv5o9yu',\n",
              " 'oioo9og',\n",
              " 'owote852',\n",
              " 'nLIGyhTU1NQTAp6u',\n",
              " 'kunyukbabi69',\n",
              " 'b4NbTxDEyNgG141J',\n",
              " 'yut0838828185',\n",
              " 'adminmao888',\n",
              " 'demon10',\n",
              " 'kdl9cl53',\n",
              " 'fk9qi21m',\n",
              " 'k9b8cz6aj2',\n",
              " 'WUt9IZzE0OQ7PkNE',\n",
              " 'uxyloga692',\n",
              " '10Erjrlmebup0n',\n",
              " 'kitty555',\n",
              " 'wo9aiwangyan',\n",
              " 'oioo9og',\n",
              " 'Scipio21152030067254',\n",
              " 'may112001',\n",
              " 'hqh2eYjQxOQPYIsA',\n",
              " 'owote852',\n",
              " 'z3ro1sm',\n",
              " 'meriton23',\n",
              " 'poseidon2011',\n",
              " 'tucagu356',\n",
              " 'teste10',\n",
              " 'demon10',\n",
              " 'cesarmaio1',\n",
              " 'Staterkom20081993',\n",
              " 'aio42fv',\n",
              " '2021848709.',\n",
              " 'weicat12',\n",
              " 'virush1n1',\n",
              " 'g3rappa',\n",
              " '248sUqiFEJuRag',\n",
              " 'asgaliu11',\n",
              " 'franczuk33',\n",
              " 'marita1',\n",
              " 'yqugu927',\n",
              " 'password0880',\n",
              " '4fqa52vecr',\n",
              " 'ebacuro434',\n",
              " 'pablo321159',\n",
              " 'barboza221294',\n",
              " 'may112001',\n",
              " 'sasuke4',\n",
              " 'tia150979',\n",
              " 'y0unus',\n",
              " 'rogyh820',\n",
              " 'ixehawojEPe418',\n",
              " 'lsdlsd1',\n",
              " 'qwekl12',\n",
              " 'alimagik1',\n",
              " 'zidadoh258',\n",
              " 'cUFUSYKIPuGo024',\n",
              " 'XqMB7vDMzOQocAFV',\n",
              " 'jerusalem393',\n",
              " 'cdann123',\n",
              " 'buqodym199',\n",
              " 'woogee04',\n",
              " 'eth36498',\n",
              " 'xf6385494',\n",
              " 'zidadoh258',\n",
              " '1ngaymuadong',\n",
              " 'paulino123',\n",
              " 'mohantra1',\n",
              " 'pmcm110118008',\n",
              " 'elonex24',\n",
              " 'alchimie79',\n",
              " 'd04m11',\n",
              " '4lgYVfzk1MwuzHcn',\n",
              " 'denise18',\n",
              " 'Staterkom20081993',\n",
              " 'lymuvop730',\n",
              " 'spl51190595',\n",
              " '123net123',\n",
              " 'kswa2mrv',\n",
              " '33kanun03',\n",
              " 'portales1',\n",
              " 'mdaffandi74',\n",
              " 'mickael12',\n",
              " 'kabrito1',\n",
              " 'jalal123456',\n",
              " 'may112001',\n",
              " 'robot425',\n",
              " 'mmm23mm',\n",
              " 'DTUQG5jU5MwmR1L9',\n",
              " 'paladinas1',\n",
              " 'tomas7896',\n",
              " '3f5xd41l0ik7',\n",
              " 'b9m7cxcgc',\n",
              " 'jsm159167',\n",
              " 'adminmao888',\n",
              " 'woaini0',\n",
              " 'c1brb3lt',\n",
              " 'galoucura1',\n",
              " 'p3rf3ct0',\n",
              " 'control9',\n",
              " 'oscar69',\n",
              " 'q0pv0fk',\n",
              " 'k1k2k3k4k5k6',\n",
              " 'uoaef06gfqeb',\n",
              " 'yu4cmn',\n",
              " 'seng987321',\n",
              " 'vietnga92',\n",
              " 'uziwocy148',\n",
              " 'gill02',\n",
              " 'z7zbgIDkzMQeHUd9',\n",
              " 'openup12',\n",
              " 'jr88072635',\n",
              " '746xitEGiqObog',\n",
              " 'witek1709',\n",
              " '4165000yakub',\n",
              " 'zidadoh258',\n",
              " 't8IkFRDIxMAFV2JW',\n",
              " 'spl51190595',\n",
              " 'mmm23mm',\n",
              " 'rqmswof2llb0',\n",
              " 'asgaliu11',\n",
              " 'barboza221294',\n",
              " 'change201',\n",
              " 'q0pv0fk',\n",
              " 'gandhi8513',\n",
              " 'mussuh4',\n",
              " 'kenneth610',\n",
              " 'qwekl12',\n",
              " '7942vikas',\n",
              " 'ahibyg892',\n",
              " 'DTUQG5jU5MwmR1L9',\n",
              " 'yy4129',\n",
              " 'z888888',\n",
              " '20Dgw7TQ0OQVdly7',\n",
              " 'IRZA98',\n",
              " 'snolyuj04',\n",
              " '5gzj5uf',\n",
              " 'xiau5ff',\n",
              " 'wasanun13',\n",
              " 'qopybuxi2',\n",
              " '2yz4ewwg',\n",
              " 'stalucia66',\n",
              " 'iubat09',\n",
              " 'intel1',\n",
              " 'v10rica',\n",
              " 'p2share',\n",
              " '283671gus',\n",
              " 'w1ll1ams',\n",
              " 'gill02',\n",
              " 'tspirits08',\n",
              " 'yjuqseb416',\n",
              " 'aosmaxd0',\n",
              " 'acgyj188',\n",
              " 'iwaguh884',\n",
              " 'studenko123',\n",
              " 'matiofox08',\n",
              " 'pilatyj280',\n",
              " '2010server',\n",
              " 'byeypb2',\n",
              " 'z888888',\n",
              " 'wbtdrieus345',\n",
              " '6tequila6',\n",
              " 'oscar2002',\n",
              " 'moimoimoi9',\n",
              " 'IRZA98',\n",
              " 'rogyh820',\n",
              " 'tahseen75',\n",
              " 'carla99',\n",
              " 'zu20081965',\n",
              " 'X34y2CzY5MACs6kp',\n",
              " 'universe2908',\n",
              " 'kXzWOozU2MQ1Jv1h',\n",
              " 'exitos2009',\n",
              " '1katertje',\n",
              " 'ejeko677',\n",
              " 'jr88072635',\n",
              " 'killer5',\n",
              " 'elyass15@ajilent-ci',\n",
              " 'buqodym199',\n",
              " 'b9m7cxcgc',\n",
              " 'fbjurcd961',\n",
              " 'IjUcOtYqAwel725',\n",
              " 'xve33ea',\n",
              " 'fnmsdha476',\n",
              " 'djngeyut2707',\n",
              " 'yitbos77',\n",
              " 'wbtdrieus345',\n",
              " 'regodib479',\n",
              " 'portales1',\n",
              " 'hodygid757',\n",
              " '3CgRg8DA1NQY1iEj',\n",
              " 'servbot88',\n",
              " 'yhwbzci130',\n",
              " 'kjkjkj1',\n",
              " 'b98nwtpriyesh',\n",
              " 'hodygid757',\n",
              " 'taiga0088',\n",
              " 'galoucura1',\n",
              " 'deryxi704',\n",
              " 'polo2014',\n",
              " 'killer5',\n",
              " '123456ts',\n",
              " 'wuzyci421',\n",
              " 'junaid5',\n",
              " 'fudijep286',\n",
              " 'ns2b0727',\n",
              " 'ts34a3fodh3i',\n",
              " '0870330135a',\n",
              " 'mmm23mm',\n",
              " 'cerner09',\n",
              " 'j09000',\n",
              " 'zeitgeist1',\n",
              " 'xp;ysmybst',\n",
              " 'faqih82',\n",
              " 'znbl5tj1',\n",
              " '101010hadis',\n",
              " 'yitbos77',\n",
              " 'zendegi2me',\n",
              " '0112358mayin0',\n",
              " '746xitEGiqObog',\n",
              " 'uziwocy148',\n",
              " 'c1brb3lt',\n",
              " 'keithar1',\n",
              " 'hylefup708',\n",
              " 'j2yj2yj2y',\n",
              " '248sUqiFEJuRag',\n",
              " 'njmania114',\n",
              " 'nLIGyhTU1NQTAp6u',\n",
              " 'icap12',\n",
              " 'cockw0mble',\n",
              " '2GnTStTE4Mw4MTwv',\n",
              " 'mark11',\n",
              " 'kP82iqDMxNgBMxBP',\n",
              " 'zoobike04',\n",
              " 'mega0109',\n",
              " 'cerner09',\n",
              " '147963asd',\n",
              " 'coy29061994',\n",
              " 'aosmaxd0',\n",
              " 'woon12',\n",
              " 'yuri110995',\n",
              " '215466kenyi',\n",
              " 'padhila30',\n",
              " 'jr88072635',\n",
              " 'ajyrew547',\n",
              " 'ypodahe201',\n",
              " 'go7kew7a2po',\n",
              " 'barra23',\n",
              " 'spl51190595',\n",
              " 'vuqADUSatAJO800',\n",
              " 'a2486315',\n",
              " 'ga98SIzk0NwhiZaE',\n",
              " 'denise18',\n",
              " 'aslanmarco007',\n",
              " 'ts34a3fodh3i',\n",
              " 'L2i2ZwTg1MQajeBm',\n",
              " 'poluxyj32',\n",
              " 'osimeytju12',\n",
              " 'kXzWOozU2MQ1Jv1h',\n",
              " 'q0pv0fk',\n",
              " 'go7kew7a2po',\n",
              " 'xp;ysmybst',\n",
              " 'mohantra1',\n",
              " 'x8512514',\n",
              " 'in595462',\n",
              " 'wxS2ztDk4OATjBfI',\n",
              " '2yz4ewwg',\n",
              " 'zjl0kx03',\n",
              " '746xitEGiqObog',\n",
              " 'eth36498',\n",
              " 'gracimir87',\n",
              " 'xp;ysmybst',\n",
              " 'calcifer32',\n",
              " 'cdann123',\n",
              " 'han19660120',\n",
              " 'angelinajol52',\n",
              " 'goony01',\n",
              " 'clumsy0619',\n",
              " 'polo2014',\n",
              " 'sanjaime1',\n",
              " '000webhostcom',\n",
              " 'iubat09',\n",
              " 'jonothepoop1',\n",
              " '1justogax',\n",
              " 's9830950044',\n",
              " 'tomas7896',\n",
              " 'amandine666',\n",
              " 'snolyuj04',\n",
              " 'galoucura1',\n",
              " 'w1ll1ams',\n",
              " 'Jovan13lovekenthjusvan4ever',\n",
              " 'xawipy995',\n",
              " 'kabrito1',\n",
              " '6yy6yy',\n",
              " 'ilunia20',\n",
              " '26522876p',\n",
              " 'Jovan13lovekenthjusvan4ever',\n",
              " 'naseKoBUMIg295',\n",
              " 'pedronha96',\n",
              " '64959rodro',\n",
              " 'v10rica',\n",
              " 'ubojig109',\n",
              " 'wasanun13',\n",
              " 'xW8-3w7-MFB-CKH',\n",
              " 'elyass15@ajilent-ci',\n",
              " 'Ju6BIMTU0MwYXtL4',\n",
              " 'matiofox08',\n",
              " 'icap12',\n",
              " 'caramelo9',\n",
              " '20010509wang',\n",
              " '123456ts',\n",
              " 'tukaxo486',\n",
              " 'j09000',\n",
              " 'omakiva153',\n",
              " '52756652a',\n",
              " 'tin030201',\n",
              " 'pugceya468',\n",
              " 'nK0yKXTU0NQHZE2e',\n",
              " 'la3na4you',\n",
              " 'xp;ysmybst',\n",
              " 'koabcswzt3',\n",
              " 'tomas7896',\n",
              " 'yu86640132',\n",
              " 'ldteugao6',\n",
              " 'enziitoo1234',\n",
              " 'aan2900220',\n",
              " 'evivad588',\n",
              " 'kevin24',\n",
              " 'cristiano7',\n",
              " 'vardhan19',\n",
              " 'ydkmujrze3',\n",
              " 'shH3t7TcyOQwKRLt',\n",
              " 'examy624',\n",
              " 'webstudio8',\n",
              " 'aziz098765',\n",
              " 'galoucura1',\n",
              " '210496av',\n",
              " 'paladinas1',\n",
              " 'up8444',\n",
              " 'jesmond26',\n",
              " '1234159hero',\n",
              " 'go7kew7a2po',\n",
              " '07dpv1127b',\n",
              " 'v10rica',\n",
              " 'ilunia20',\n",
              " '0VKWoODkwOAc0pZK',\n",
              " 'yhwbzci130',\n",
              " 'examy624',\n",
              " 'gedu1t1ah',\n",
              " 'a2486315',\n",
              " '52558000aaa',\n",
              " 'servbot88',\n",
              " 'clumsy0619',\n",
              " 'yuri110995',\n",
              " 'hisnipes1',\n",
              " 'topgan22',\n",
              " 'parent777',\n",
              " 'tot2531s',\n",
              " 'pacman23',\n",
              " '000martin',\n",
              " 'pato221182',\n",
              " 'naseKoBUMIg295',\n",
              " 'barboza221294',\n",
              " 'medebizu3',\n",
              " 'sanki1',\n",
              " 'mussuh4',\n",
              " 'llahetihw1',\n",
              " 'aosmaxd0',\n",
              " 'viri13',\n",
              " 'fudijep286',\n",
              " 'raykuaz32',\n",
              " 'bc5e4vca',\n",
              " 'wbtdrieus345',\n",
              " 'sha122511',\n",
              " 'gonzalez1559',\n",
              " '2fakjv',\n",
              " 'c3h8bkzr',\n",
              " 'mosad999',\n",
              " 'paladinas1',\n",
              " 'yllime123',\n",
              " 'nhfdff2512',\n",
              " 'adfbwrnt4',\n",
              " 'daaxvie1',\n",
              " 'luthien123',\n",
              " 'd6VyrkFV6oblxNs5N8cW',\n",
              " 'mndzbqkv651',\n",
              " '00J46LTAxMgME7C4',\n",
              " 'idofo673',\n",
              " 'Zdyf0kjMzNQycqPx',\n",
              " 'buqodym199',\n",
              " 'ziKYRyqewaxE717',\n",
              " 'sony18',\n",
              " 'kate13',\n",
              " 'e667794c1d',\n",
              " 'tukaxo486',\n",
              " 'naseKoBUMIg295',\n",
              " 'olmaz.',\n",
              " 'a03242241431a',\n",
              " 'ayles2266',\n",
              " 'clave2013',\n",
              " 'smart95',\n",
              " 'diarie1',\n",
              " 'luthien123',\n",
              " 'wasanun13',\n",
              " 'herherher1',\n",
              " '1907sedat58',\n",
              " 'hotdog20',\n",
              " 'itengf12',\n",
              " 'potatobus150',\n",
              " 'wearehis7',\n",
              " 'jntjmh7',\n",
              " '12345yolanda',\n",
              " 'pilatyj280',\n",
              " 'krowka18',\n",
              " '159951josh',\n",
              " 'xp;ysmybst',\n",
              " 'macias2010',\n",
              " 'j03l4ytr1',\n",
              " 'metopelo1623',\n",
              " 'eth36498',\n",
              " 'popo0404',\n",
              " 'ebogel225',\n",
              " 'ebogel225',\n",
              " 'j2yj2yj2y',\n",
              " 'Zanekurosak10%',\n",
              " 'IP1yaTDUzOQWAeI5',\n",
              " 'potatobus150',\n",
              " 'falre1524',\n",
              " 'tspirits08',\n",
              " 'novelia21',\n",
              " 'iwaguh884',\n",
              " 't8IkFRDIxMAFV2JW',\n",
              " 'ypodahe201',\n",
              " 'demon10',\n",
              " 'kunyukbabi69',\n",
              " 'studenko123',\n",
              " 'hpw1907v',\n",
              " '01161590m',\n",
              " 'tspirits08',\n",
              " 'aquhih220',\n",
              " '030005qw',\n",
              " 'sw10d014',\n",
              " 'daylit9',\n",
              " 'kah4544875',\n",
              " 'juliel009',\n",
              " 'bellsuki1',\n",
              " 'fudijep286',\n",
              " 'deivid1991',\n",
              " 'mosad999',\n",
              " 'kyxvufl37',\n",
              " 'azerty32',\n",
              " 'jalingo1',\n",
              " '26522876p',\n",
              " 'ezekiel720',\n",
              " 'w1e2s3l4',\n",
              " 'korea2010',\n",
              " 'onurb1994',\n",
              " 'taiga0088',\n",
              " 'xzeyfbi495',\n",
              " '4165000yakub',\n",
              " '283671gus',\n",
              " 'tollak123',\n",
              " 'overlord3127',\n",
              " 'savas123x',\n",
              " 'pHyqueDIyNQ8vmhb',\n",
              " 'djda1203zj',\n",
              " 'pmcm110118008',\n",
              " 'up8444',\n",
              " 'cerner09',\n",
              " 'a1233210',\n",
              " 'azerty32',\n",
              " 'josue12',\n",
              " 'jules2109',\n",
              " 'krumbul123',\n",
              " 'xie635891',\n",
              " 'hpw1907v',\n",
              " 'jr88072635',\n",
              " '23deagosto',\n",
              " 'xtswdypgh936',\n",
              " 'orejuby808',\n",
              " 'technofolle95',\n",
              " 'kahcyxvj24',\n",
              " '215466kenyi',\n",
              " 'u6c8vhow',\n",
              " '1972vishara',\n",
              " 'rqmswof2llb0',\n",
              " 'zoobike04',\n",
              " 'bijou2012',\n",
              " 'ginger972',\n",
              " 'mmm23mm',\n",
              " 'sbl571017',\n",
              " 'jl440033',\n",
              " 'oscar2002',\n",
              " 'exitos2009',\n",
              " 'Ju6BIMTU0MwYXtL4',\n",
              " 'grazi0201',\n",
              " '1234159hero',\n",
              " 'acetita478',\n",
              " 'jose30209',\n",
              " 'hamqrc6',\n",
              " 'rogama69',\n",
              " '3vszncp4',\n",
              " 'lollies1989',\n",
              " 'dK4dWOjM1OAPeisw',\n",
              " 'jonothepoop1',\n",
              " 'ilonu497',\n",
              " 'mustang337',\n",
              " 'owote852',\n",
              " '0123one47',\n",
              " 'jr88072635',\n",
              " 'MT766631',\n",
              " 'smart95',\n",
              " 'paladinas1',\n",
              " 'gjm666',\n",
              " 'alodise603',\n",
              " 'satelite31',\n",
              " 'idyi5qc',\n",
              " 'hotdog20',\n",
              " 'exitos2009',\n",
              " 'cacamania12',\n",
              " 'n501iomf',\n",
              " 'uuuu123',\n",
              " 'oscar2002',\n",
              " '2GnTStTE4Mw4MTwv',\n",
              " 'herherher1',\n",
              " 'UF1Z2WjE5Mg26R1K',\n",
              " 'espinosa81',\n",
              " 'Ju6BIMTU0MwYXtL4',\n",
              " 'aosmaxd0',\n",
              " 'bafiqkxwu0',\n",
              " 'mtvwyz001',\n",
              " 'pazzini24',\n",
              " '123net123',\n",
              " 'cockw0mble',\n",
              " 'u6c8vhow',\n",
              " 'skoda06',\n",
              " 'p0lp0l',\n",
              " 'akucinta12',\n",
              " 'jr88072635',\n",
              " 'teemteem97',\n",
              " '9h7v4z91',\n",
              " 'korea2010',\n",
              " 'biologie1998',\n",
              " 'klister1',\n",
              " 'patty94',\n",
              " 'CabezaDePollo476',\n",
              " 'rqmswof2llb0',\n",
              " 'bencike7',\n",
              " 'lolems1',\n",
              " 'nzzvfg7i9p',\n",
              " 'ci0n3exor',\n",
              " '123477889a',\n",
              " 'wjngzro27',\n",
              " 'ryjypes139',\n",
              " 'krumbul123',\n",
              " ...]"
            ]
          },
          "metadata": {},
          "execution_count": 15
        }
      ]
    },
    {
      "cell_type": "code",
      "metadata": {
        "id": "3mVefnBkQKbA"
      },
      "source": [
        ""
      ],
      "execution_count": 15,
      "outputs": []
    },
    {
      "cell_type": "markdown",
      "metadata": {
        "id": "X77pVcI6QKbA"
      },
      "source": [
        "#### create a custom function to split input into characters of list"
      ]
    },
    {
      "cell_type": "code",
      "metadata": {
        "id": "-L7RaUSSQKbA"
      },
      "source": [
        "def word_divide_char(inputs):\n",
        "    character=[]\n",
        "    for i in inputs:\n",
        "        character.append(i)\n",
        "    return character"
      ],
      "execution_count": 16,
      "outputs": []
    },
    {
      "cell_type": "code",
      "metadata": {
        "id": "rbDlR9hBQKbB",
        "colab": {
          "base_uri": "https://localhost:8080/"
        },
        "outputId": "7e70e791-dad5-4ee3-d9cf-9e758d3cec74"
      },
      "source": [
        "word_divide_char('kzde5577')"
      ],
      "execution_count": 17,
      "outputs": [
        {
          "output_type": "execute_result",
          "data": {
            "text/plain": [
              "['k', 'z', 'd', 'e', '5', '5', '7', '7']"
            ]
          },
          "metadata": {},
          "execution_count": 17
        }
      ]
    },
    {
      "cell_type": "code",
      "metadata": {
        "id": "3MSW7frnQKbB"
      },
      "source": [
        ""
      ],
      "execution_count": 17,
      "outputs": []
    },
    {
      "cell_type": "markdown",
      "metadata": {
        "id": "qpr8G6fKQKbB"
      },
      "source": [
        "#### import TF-IDF vectorizer to convert String data into numerical data"
      ]
    },
    {
      "cell_type": "code",
      "metadata": {
        "id": "GjDynX8hQKbC"
      },
      "source": [
        "from sklearn.feature_extraction.text import TfidfVectorizer"
      ],
      "execution_count": 18,
      "outputs": []
    },
    {
      "cell_type": "code",
      "metadata": {
        "id": "ww_RFM9DQKbC"
      },
      "source": [
        "vectorizer=TfidfVectorizer(tokenizer=word_divide_char)"
      ],
      "execution_count": 19,
      "outputs": []
    },
    {
      "cell_type": "markdown",
      "metadata": {
        "id": "SNRIQThNQKbC"
      },
      "source": [
        "#### apply TF-IDF vectorizer on data"
      ]
    },
    {
      "cell_type": "code",
      "metadata": {
        "id": "w9ISj0nUQKbD"
      },
      "source": [
        "X=vectorizer.fit_transform(x)"
      ],
      "execution_count": 20,
      "outputs": []
    },
    {
      "cell_type": "code",
      "metadata": {
        "id": "yf4Kxd91QKbD",
        "colab": {
          "base_uri": "https://localhost:8080/"
        },
        "outputId": "7a5e5db1-09bf-4b5b-9e8e-6cc0ec6016e9"
      },
      "source": [
        "X.shape"
      ],
      "execution_count": 21,
      "outputs": [
        {
          "output_type": "execute_result",
          "data": {
            "text/plain": [
              "(669639, 122)"
            ]
          },
          "metadata": {},
          "execution_count": 21
        }
      ]
    },
    {
      "cell_type": "code",
      "metadata": {
        "id": "DlI812HfQKbD",
        "colab": {
          "base_uri": "https://localhost:8080/"
        },
        "outputId": "6b1d160a-7595-46fe-ef01-a1939829d1d5"
      },
      "source": [
        "vectorizer.get_feature_names()"
      ],
      "execution_count": 22,
      "outputs": [
        {
          "output_type": "execute_result",
          "data": {
            "text/plain": [
              "['\\x01',\n",
              " '\\x05',\n",
              " '\\x10',\n",
              " '\\x11',\n",
              " '\\x12',\n",
              " '\\x16',\n",
              " '\\x17',\n",
              " '\\x19',\n",
              " '\\x1b',\n",
              " '\\x1c',\n",
              " '\\x1e',\n",
              " ' ',\n",
              " '!',\n",
              " '\"',\n",
              " '#',\n",
              " '$',\n",
              " '%',\n",
              " '&',\n",
              " '(',\n",
              " ')',\n",
              " '*',\n",
              " '+',\n",
              " '-',\n",
              " '.',\n",
              " '/',\n",
              " '0',\n",
              " '1',\n",
              " '2',\n",
              " '3',\n",
              " '4',\n",
              " '5',\n",
              " '6',\n",
              " '7',\n",
              " '8',\n",
              " '9',\n",
              " ';',\n",
              " '<',\n",
              " '=',\n",
              " '>',\n",
              " '?',\n",
              " '@',\n",
              " '[',\n",
              " '\\\\',\n",
              " ']',\n",
              " '^',\n",
              " '_',\n",
              " '`',\n",
              " 'a',\n",
              " 'b',\n",
              " 'c',\n",
              " 'd',\n",
              " 'e',\n",
              " 'f',\n",
              " 'g',\n",
              " 'h',\n",
              " 'i',\n",
              " 'j',\n",
              " 'k',\n",
              " 'l',\n",
              " 'm',\n",
              " 'n',\n",
              " 'o',\n",
              " 'p',\n",
              " 'q',\n",
              " 'r',\n",
              " 's',\n",
              " 't',\n",
              " 'u',\n",
              " 'v',\n",
              " 'w',\n",
              " 'x',\n",
              " 'y',\n",
              " 'z',\n",
              " '{',\n",
              " '|',\n",
              " '}',\n",
              " '~',\n",
              " '¡',\n",
              " '¨',\n",
              " '«',\n",
              " '¯',\n",
              " '°',\n",
              " '±',\n",
              " '²',\n",
              " '³',\n",
              " '´',\n",
              " 'µ',\n",
              " '·',\n",
              " 'º',\n",
              " '¾',\n",
              " '¿',\n",
              " '×',\n",
              " 'ß',\n",
              " 'á',\n",
              " 'â',\n",
              " 'ä',\n",
              " 'å',\n",
              " 'ê',\n",
              " 'í',\n",
              " 'ï',\n",
              " 'ð',\n",
              " 'ñ',\n",
              " 'ò',\n",
              " 'ó',\n",
              " 'ô',\n",
              " 'õ',\n",
              " 'ö',\n",
              " '÷',\n",
              " 'ù',\n",
              " 'ú',\n",
              " 'û',\n",
              " 'ü',\n",
              " 'ý',\n",
              " 'þ',\n",
              " 'ÿ',\n",
              " 'œ',\n",
              " '—',\n",
              " '‚',\n",
              " '…',\n",
              " '‹',\n",
              " '›',\n",
              " '™']"
            ]
          },
          "metadata": {},
          "execution_count": 22
        }
      ]
    },
    {
      "cell_type": "code",
      "metadata": {
        "id": "oNkgtzO-QKbE",
        "colab": {
          "base_uri": "https://localhost:8080/"
        },
        "outputId": "537054ed-8058-4488-f76e-21f4e61569b3"
      },
      "source": [
        "first_document_vector=X[0]\n",
        "first_document_vector"
      ],
      "execution_count": 23,
      "outputs": [
        {
          "output_type": "execute_result",
          "data": {
            "text/plain": [
              "<1x122 sparse matrix of type '<class 'numpy.float64'>'\n",
              "\twith 6 stored elements in Compressed Sparse Row format>"
            ]
          },
          "metadata": {},
          "execution_count": 23
        }
      ]
    },
    {
      "cell_type": "code",
      "metadata": {
        "id": "1Uw_9O7-QKbE",
        "colab": {
          "base_uri": "https://localhost:8080/"
        },
        "outputId": "d2f9c478-b0e7-4672-e064-20dde39389bc"
      },
      "source": [
        "first_document_vector.T.todense()"
      ],
      "execution_count": 24,
      "outputs": [
        {
          "output_type": "execute_result",
          "data": {
            "text/plain": [
              "matrix([[0.        ],\n",
              "        [0.        ],\n",
              "        [0.        ],\n",
              "        [0.        ],\n",
              "        [0.        ],\n",
              "        [0.        ],\n",
              "        [0.        ],\n",
              "        [0.        ],\n",
              "        [0.        ],\n",
              "        [0.        ],\n",
              "        [0.        ],\n",
              "        [0.        ],\n",
              "        [0.        ],\n",
              "        [0.        ],\n",
              "        [0.        ],\n",
              "        [0.        ],\n",
              "        [0.        ],\n",
              "        [0.        ],\n",
              "        [0.        ],\n",
              "        [0.        ],\n",
              "        [0.        ],\n",
              "        [0.        ],\n",
              "        [0.        ],\n",
              "        [0.        ],\n",
              "        [0.        ],\n",
              "        [0.        ],\n",
              "        [0.        ],\n",
              "        [0.        ],\n",
              "        [0.        ],\n",
              "        [0.        ],\n",
              "        [0.56747926],\n",
              "        [0.        ],\n",
              "        [0.59101217],\n",
              "        [0.        ],\n",
              "        [0.        ],\n",
              "        [0.        ],\n",
              "        [0.        ],\n",
              "        [0.        ],\n",
              "        [0.        ],\n",
              "        [0.        ],\n",
              "        [0.        ],\n",
              "        [0.        ],\n",
              "        [0.        ],\n",
              "        [0.        ],\n",
              "        [0.        ],\n",
              "        [0.        ],\n",
              "        [0.        ],\n",
              "        [0.        ],\n",
              "        [0.        ],\n",
              "        [0.        ],\n",
              "        [0.28586968],\n",
              "        [0.22115051],\n",
              "        [0.        ],\n",
              "        [0.        ],\n",
              "        [0.        ],\n",
              "        [0.        ],\n",
              "        [0.        ],\n",
              "        [0.29163228],\n",
              "        [0.        ],\n",
              "        [0.        ],\n",
              "        [0.        ],\n",
              "        [0.        ],\n",
              "        [0.        ],\n",
              "        [0.        ],\n",
              "        [0.        ],\n",
              "        [0.        ],\n",
              "        [0.        ],\n",
              "        [0.        ],\n",
              "        [0.        ],\n",
              "        [0.        ],\n",
              "        [0.        ],\n",
              "        [0.        ],\n",
              "        [0.33614505],\n",
              "        [0.        ],\n",
              "        [0.        ],\n",
              "        [0.        ],\n",
              "        [0.        ],\n",
              "        [0.        ],\n",
              "        [0.        ],\n",
              "        [0.        ],\n",
              "        [0.        ],\n",
              "        [0.        ],\n",
              "        [0.        ],\n",
              "        [0.        ],\n",
              "        [0.        ],\n",
              "        [0.        ],\n",
              "        [0.        ],\n",
              "        [0.        ],\n",
              "        [0.        ],\n",
              "        [0.        ],\n",
              "        [0.        ],\n",
              "        [0.        ],\n",
              "        [0.        ],\n",
              "        [0.        ],\n",
              "        [0.        ],\n",
              "        [0.        ],\n",
              "        [0.        ],\n",
              "        [0.        ],\n",
              "        [0.        ],\n",
              "        [0.        ],\n",
              "        [0.        ],\n",
              "        [0.        ],\n",
              "        [0.        ],\n",
              "        [0.        ],\n",
              "        [0.        ],\n",
              "        [0.        ],\n",
              "        [0.        ],\n",
              "        [0.        ],\n",
              "        [0.        ],\n",
              "        [0.        ],\n",
              "        [0.        ],\n",
              "        [0.        ],\n",
              "        [0.        ],\n",
              "        [0.        ],\n",
              "        [0.        ],\n",
              "        [0.        ],\n",
              "        [0.        ],\n",
              "        [0.        ],\n",
              "        [0.        ],\n",
              "        [0.        ],\n",
              "        [0.        ],\n",
              "        [0.        ]])"
            ]
          },
          "metadata": {},
          "execution_count": 24
        }
      ]
    },
    {
      "cell_type": "code",
      "metadata": {
        "id": "o9qMdP7-QKbF",
        "colab": {
          "base_uri": "https://localhost:8080/",
          "height": 419
        },
        "outputId": "fc20e4db-dc4d-4e8a-8fe2-86ba58f6a508"
      },
      "source": [
        "df=pd.DataFrame(first_document_vector.T.todense(),index=vectorizer.get_feature_names(),columns=['TF-IDF'])\n",
        "df.sort_values(by=['TF-IDF'],ascending=False)"
      ],
      "execution_count": 25,
      "outputs": [
        {
          "output_type": "execute_result",
          "data": {
            "text/html": [
              "<div>\n",
              "<style scoped>\n",
              "    .dataframe tbody tr th:only-of-type {\n",
              "        vertical-align: middle;\n",
              "    }\n",
              "\n",
              "    .dataframe tbody tr th {\n",
              "        vertical-align: top;\n",
              "    }\n",
              "\n",
              "    .dataframe thead th {\n",
              "        text-align: right;\n",
              "    }\n",
              "</style>\n",
              "<table border=\"1\" class=\"dataframe\">\n",
              "  <thead>\n",
              "    <tr style=\"text-align: right;\">\n",
              "      <th></th>\n",
              "      <th>TF-IDF</th>\n",
              "    </tr>\n",
              "  </thead>\n",
              "  <tbody>\n",
              "    <tr>\n",
              "      <th>7</th>\n",
              "      <td>0.591012</td>\n",
              "    </tr>\n",
              "    <tr>\n",
              "      <th>5</th>\n",
              "      <td>0.567479</td>\n",
              "    </tr>\n",
              "    <tr>\n",
              "      <th>z</th>\n",
              "      <td>0.336145</td>\n",
              "    </tr>\n",
              "    <tr>\n",
              "      <th>k</th>\n",
              "      <td>0.291632</td>\n",
              "    </tr>\n",
              "    <tr>\n",
              "      <th>d</th>\n",
              "      <td>0.285870</td>\n",
              "    </tr>\n",
              "    <tr>\n",
              "      <th>...</th>\n",
              "      <td>...</td>\n",
              "    </tr>\n",
              "    <tr>\n",
              "      <th>=</th>\n",
              "      <td>0.000000</td>\n",
              "    </tr>\n",
              "    <tr>\n",
              "      <th>&lt;</th>\n",
              "      <td>0.000000</td>\n",
              "    </tr>\n",
              "    <tr>\n",
              "      <th>;</th>\n",
              "      <td>0.000000</td>\n",
              "    </tr>\n",
              "    <tr>\n",
              "      <th>9</th>\n",
              "      <td>0.000000</td>\n",
              "    </tr>\n",
              "    <tr>\n",
              "      <th>™</th>\n",
              "      <td>0.000000</td>\n",
              "    </tr>\n",
              "  </tbody>\n",
              "</table>\n",
              "<p>122 rows × 1 columns</p>\n",
              "</div>"
            ],
            "text/plain": [
              "      TF-IDF\n",
              "7   0.591012\n",
              "5   0.567479\n",
              "z   0.336145\n",
              "k   0.291632\n",
              "d   0.285870\n",
              "..       ...\n",
              "=   0.000000\n",
              "<   0.000000\n",
              ";   0.000000\n",
              "9   0.000000\n",
              "™   0.000000\n",
              "\n",
              "[122 rows x 1 columns]"
            ]
          },
          "metadata": {},
          "execution_count": 25
        }
      ]
    },
    {
      "cell_type": "code",
      "metadata": {
        "id": "ijVFnIVnQKbF"
      },
      "source": [
        ""
      ],
      "execution_count": 25,
      "outputs": []
    },
    {
      "cell_type": "markdown",
      "metadata": {
        "id": "6DuJ3P0OQKbF"
      },
      "source": [
        "#### split data into train & test\n",
        "    train---> To learn the relationship within data, \n",
        "    test-->  To do predictions, and this testing data will be unseen to my model"
      ]
    },
    {
      "cell_type": "code",
      "metadata": {
        "id": "kCXBHeGXQKbG"
      },
      "source": [
        "from sklearn.model_selection import train_test_split"
      ],
      "execution_count": 26,
      "outputs": []
    },
    {
      "cell_type": "code",
      "metadata": {
        "id": "gqLcq0dhQKbG"
      },
      "source": [
        "X_train, X_test, y_train, y_test=train_test_split(X,y,test_size=0.2)"
      ],
      "execution_count": 27,
      "outputs": []
    },
    {
      "cell_type": "code",
      "metadata": {
        "id": "FUMqyAuQQKbG",
        "colab": {
          "base_uri": "https://localhost:8080/"
        },
        "outputId": "90010352-3bab-4ba0-b7a3-f5975079776a"
      },
      "source": [
        "X_train.shape"
      ],
      "execution_count": 28,
      "outputs": [
        {
          "output_type": "execute_result",
          "data": {
            "text/plain": [
              "(535711, 122)"
            ]
          },
          "metadata": {},
          "execution_count": 28
        }
      ]
    },
    {
      "cell_type": "code",
      "metadata": {
        "id": "9SEdsZMYQKbG"
      },
      "source": [
        "from sklearn.linear_model import LogisticRegression"
      ],
      "execution_count": 29,
      "outputs": []
    },
    {
      "cell_type": "code",
      "metadata": {
        "id": "TLvhdsUcQKbH"
      },
      "source": [
        ""
      ],
      "execution_count": 29,
      "outputs": []
    },
    {
      "cell_type": "markdown",
      "metadata": {
        "id": "Cpgbo5fmQKbH"
      },
      "source": [
        "#### Apply Logistic on data as use-cas is Classification"
      ]
    },
    {
      "cell_type": "code",
      "metadata": {
        "id": "C-TpGyW3QKbH"
      },
      "source": [
        "clf=LogisticRegression(random_state=0,multi_class='multinomial')"
      ],
      "execution_count": 30,
      "outputs": []
    },
    {
      "cell_type": "code",
      "metadata": {
        "id": "4oEk2iTRQKbH",
        "colab": {
          "base_uri": "https://localhost:8080/"
        },
        "outputId": "c763c8bc-3577-4bcf-a066-59f69f594693"
      },
      "source": [
        "clf.fit(X_train,y_train)"
      ],
      "execution_count": 31,
      "outputs": [
        {
          "output_type": "execute_result",
          "data": {
            "text/plain": [
              "LogisticRegression(C=1.0, class_weight=None, dual=False, fit_intercept=True,\n",
              "                   intercept_scaling=1, l1_ratio=None, max_iter=100,\n",
              "                   multi_class='multinomial', n_jobs=None, penalty='l2',\n",
              "                   random_state=0, solver='lbfgs', tol=0.0001, verbose=0,\n",
              "                   warm_start=False)"
            ]
          },
          "metadata": {},
          "execution_count": 31
        }
      ]
    },
    {
      "cell_type": "code",
      "metadata": {
        "id": "1me-hiC3QKbI"
      },
      "source": [
        ""
      ],
      "execution_count": 31,
      "outputs": []
    },
    {
      "cell_type": "markdown",
      "metadata": {
        "id": "t4RgDH_HQKbI"
      },
      "source": [
        "#### doing prediction for specific custom data"
      ]
    },
    {
      "cell_type": "code",
      "metadata": {
        "id": "MdAcsvo9QKbI",
        "colab": {
          "base_uri": "https://localhost:8080/"
        },
        "outputId": "aeedeced-af8f-43ee-8ad7-9a480631206a"
      },
      "source": [
        "dt=np.array(['%@123vatsal'])\n",
        "pred=vectorizer.transform(dt)\n",
        "x = clf.predict(pred)\n",
        "if x[0] == 0:\n",
        "  print(\"Your Password is Weak.\")\n",
        "elif x[0] == 1:\n",
        "  print(\"Your Password is Strong.\")\n",
        "else:\n",
        "  print(\"Your Password is Very Strong.\")"
      ],
      "execution_count": 42,
      "outputs": [
        {
          "output_type": "stream",
          "name": "stdout",
          "text": [
            "Your Password is Very Strong.\n"
          ]
        }
      ]
    },
    {
      "cell_type": "code",
      "metadata": {
        "id": "JRZ7WR5DQKbJ"
      },
      "source": [
        ""
      ],
      "execution_count": 32,
      "outputs": []
    },
    {
      "cell_type": "markdown",
      "metadata": {
        "id": "g9l4WA0mQKbJ"
      },
      "source": [
        "#### doing prediction on X-Test data"
      ]
    },
    {
      "cell_type": "code",
      "metadata": {
        "id": "cpiPZDAXQKbJ",
        "colab": {
          "base_uri": "https://localhost:8080/"
        },
        "outputId": "e754dfa4-6465-4cb2-b48f-c6d4fd0e1305"
      },
      "source": [
        "y_pred=clf.predict(X_test)\n",
        "y_pred"
      ],
      "execution_count": 33,
      "outputs": [
        {
          "output_type": "execute_result",
          "data": {
            "text/plain": [
              "array([1, 0, 1, ..., 1, 1, 1])"
            ]
          },
          "metadata": {},
          "execution_count": 33
        }
      ]
    },
    {
      "cell_type": "code",
      "metadata": {
        "id": "aH1Q_op_QKbJ"
      },
      "source": [
        ""
      ],
      "execution_count": 33,
      "outputs": []
    },
    {
      "cell_type": "markdown",
      "metadata": {
        "id": "THiXhjDjQKbK"
      },
      "source": [
        "#### check Accuracy of your model using confusion_matrix,accuracy_score"
      ]
    },
    {
      "cell_type": "code",
      "metadata": {
        "id": "MG4wAL6LQKbK"
      },
      "source": [
        "from sklearn.metrics import confusion_matrix,accuracy_score"
      ],
      "execution_count": 34,
      "outputs": []
    },
    {
      "cell_type": "code",
      "metadata": {
        "id": "KgbB6UwSQKbK",
        "colab": {
          "base_uri": "https://localhost:8080/"
        },
        "outputId": "b54efa4b-2461-4224-c198-519e9cda8ff2"
      },
      "source": [
        "cm=confusion_matrix(y_test,y_pred)\n",
        "print(cm)\n",
        "print(accuracy_score(y_test,y_pred))"
      ],
      "execution_count": 35,
      "outputs": [
        {
          "output_type": "stream",
          "name": "stdout",
          "text": [
            "[[ 5103 12632    19]\n",
            " [ 3670 93354  2526]\n",
            " [   33  5044 11547]]\n",
            "0.8213667044979391\n"
          ]
        }
      ]
    },
    {
      "cell_type": "code",
      "metadata": {
        "id": "XvycsSz2QKbL"
      },
      "source": [
        ""
      ],
      "execution_count": 35,
      "outputs": []
    },
    {
      "cell_type": "markdown",
      "metadata": {
        "id": "fSHZDKw5QKbL"
      },
      "source": [
        "##### create report of your model"
      ]
    },
    {
      "cell_type": "code",
      "metadata": {
        "id": "EyAyudQ0QKbL",
        "colab": {
          "base_uri": "https://localhost:8080/"
        },
        "outputId": "4f5a61af-a759-42bb-f19f-9e6e674dc2fe"
      },
      "source": [
        "from sklearn.metrics import classification_report\n",
        "print(classification_report(y_test,y_pred))"
      ],
      "execution_count": 36,
      "outputs": [
        {
          "output_type": "stream",
          "name": "stdout",
          "text": [
            "              precision    recall  f1-score   support\n",
            "\n",
            "           0       0.58      0.29      0.38     17754\n",
            "           1       0.84      0.94      0.89     99550\n",
            "           2       0.82      0.69      0.75     16624\n",
            "\n",
            "    accuracy                           0.82    133928\n",
            "   macro avg       0.75      0.64      0.67    133928\n",
            "weighted avg       0.80      0.82      0.80    133928\n",
            "\n"
          ]
        }
      ]
    },
    {
      "cell_type": "code",
      "metadata": {
        "id": "tDgfB1_EQKbM"
      },
      "source": [
        ""
      ],
      "execution_count": 36,
      "outputs": []
    }
  ]
}